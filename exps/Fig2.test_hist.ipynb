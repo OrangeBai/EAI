{
 "cells": [
  {
   "cell_type": "code",
   "execution_count": null,
   "metadata": {
    "collapsed": true,
    "pycharm": {
     "name": "#%%\n"
    }
   },
   "outputs": [],
   "source": [
    "%cd ..\n",
    "import os\n",
    "save_dir = os.path.join(os.getcwd(), 'exps', 'figs')"
   ]
  },
  {
   "cell_type": "code",
   "execution_count": null,
   "outputs": [],
   "source": [
    "import pandas as pd\n",
    "import wandb\n",
    "from matplotlib import pyplot as plt\n",
    "from exps.plot_funcs import plot_preact, scan_history_for_mean_var\n",
    "\n",
    "api = wandb.Api(timeout=120)\n",
    "act_mapping = {\n",
    "    \"gelu\": \"GeLU\",\n",
    "    \"relu\": \"ReLU\",\n",
    "    \"tanh\": \"tanh\",\n",
    "    \"sigmoid\": \"Sigmoid\"\n",
    "}"
   ],
   "metadata": {
    "collapsed": false,
    "pycharm": {
     "name": "#%%\n"
    }
   }
  },
  {
   "cell_type": "code",
   "execution_count": null,
   "outputs": [],
   "source": [
    "runs = api.runs(\"orangebai/EAI_comp_preact\", filters={\"config.net\": \"vgg16\"})\n",
    "for run in runs:\n",
    "    if run.config[\"act\"] in act_mapping:\n",
    "        act_name= act_mapping[run.config[\"act\"]]\n",
    "        save_name = f\"preact_vgg16_{act_name}\"\n",
    "        plot_preact(run, \"pre_act/mean\", \"pre_act/var\", [2, 6, 10, 14], save_dir, save_name)"
   ],
   "metadata": {
    "collapsed": false,
    "pycharm": {
     "name": "#%%\n"
    }
   }
  },
  {
   "cell_type": "code",
   "execution_count": null,
   "outputs": [],
   "source": [
    "runs = api.runs(\"orangebai/EAI_comp_preact\", filters={\"config.net\": \"vgg16\"})\n",
    "for run in runs:\n",
    "    if run.config[\"act\"] in act_mapping:\n",
    "        act_name= act_mapping[run.config[\"act\"]]\n",
    "        save_name = f\"weights_vgg16_{act_name}\"\n",
    "        plot_preact(run, \"weights_mean\", \"weights_var\", [2, 6, 10, 14], save_dir, save_name)"
   ],
   "metadata": {
    "collapsed": false,
    "pycharm": {
     "name": "#%%\n"
    }
   }
  },
  {
   "cell_type": "code",
   "execution_count": null,
   "outputs": [],
   "source": [
    "runs = api.runs(\"orangebai/EAI_comp_preact\", filters={\"config.net\": \"vgg16\"})\n",
    "for run in runs:\n",
    "    if run.config[\"act\"] in act_mapping:\n",
    "        act_name= act_mapping[run.config[\"act\"]]\n",
    "        save_name = f\"gradients_vgg16_{act_name}\"\n",
    "        plot_preact(run, \"grad_mean\", \"grad_var\", [2, 6, 10, 14], save_dir, save_name)"
   ],
   "metadata": {
    "collapsed": false,
    "pycharm": {
     "name": "#%%\n"
    }
   }
  },
  {
   "cell_type": "code",
   "execution_count": null,
   "outputs": [],
   "source": [
    "runs = api.runs(\"orangebai/EAI_comp_preact\", filters={\"config.net\": \"vgg16\"})\n",
    "for run in runs:\n",
    "    if run.config[\"act\"] in act_mapping:\n",
    "        act_name= act_mapping[run.config[\"act\"]]\n",
    "        save_name = f\"ratio_vgg16_{act_name}\"\n",
    "        plot_preact(run, \"ratio_mean\", \"ratio_var\", [2, 6, 10, 14], save_dir, save_name)"
   ],
   "metadata": {
    "collapsed": false,
    "pycharm": {
     "name": "#%%\n"
    }
   }
  },
  {
   "cell_type": "code",
   "execution_count": null,
   "outputs": [],
   "source": [
    "import matplotlib as mpl\n",
    "import numpy as np\n",
    "from core.plotter import Plotter\n",
    "selected_layers = [2, 6, 10, 14]\n",
    "cmap_name = mpl.colormaps[\"viridis\"]\n",
    "color_gradient = np.linspace(1, 0, len(selected_layers))\n",
    "\n",
    "x, y_mean, y_min, y_max = scan_history_for_mean_var(runs[0], \"ratio_mean\", \"ratio_var\")\n"
   ],
   "metadata": {
    "collapsed": false,
    "pycharm": {
     "name": "#%%\n"
    }
   }
  },
  {
   "cell_type": "code",
   "execution_count": null,
   "outputs": [],
   "source": [
    "y_max"
   ],
   "metadata": {
    "collapsed": false,
    "pycharm": {
     "name": "#%%\n"
    }
   }
  },
  {
   "cell_type": "code",
   "execution_count": null,
   "outputs": [],
   "source": [
    "plotter = Plotter((1, 1), (16, 8), save_dir=save_dir)\n",
    "for color_idx, layer_idx in zip(color_gradient, selected_layers):\n",
    "    plotter.plot(0, 0, x, y_mean.iloc[:, layer_idx], color=cmap_name(color_idx),\n",
    "                 label=f\"Layer {str(layer_idx + 1).zfill(2)}\")\n",
    "    plotter.fill_between(0, 0, x, y_min.iloc[:, layer_idx], y_max.iloc[:, layer_idx], alpha=0.25,\n",
    "                         color=cmap_name(color_idx))\n",
    "plotter.legend(0, 0)\n",
    "plotter.set_labels(0, 0, \"Steps\", \"Preactivation\")\n",
    "plotter.ax.set_ylim((-0.5, 0.5))\n",
    "\n",
    "# plotter.save(save_name)"
   ],
   "metadata": {
    "collapsed": false,
    "pycharm": {
     "name": "#%%\n"
    }
   }
  },
  {
   "cell_type": "code",
   "execution_count": 23,
   "outputs": [
    {
     "data": {
      "text/plain": "'vgg16_gelu'"
     },
     "execution_count": 23,
     "metadata": {},
     "output_type": "execute_result"
    }
   ],
   "source": [
    "runs[0].config[\"name\"]"
   ],
   "metadata": {
    "collapsed": false,
    "pycharm": {
     "name": "#%%\n"
    }
   }
  },
  {
   "cell_type": "code",
   "execution_count": null,
   "outputs": [],
   "source": [
    "# import numpy as np\n",
    "# import matplotlib as mpl\n",
    "# from mpl_toolkits.mplot3d.art3d import Poly3DCollection # New import\n",
    "# cmap_name= mpl.colormaps[\"viridis\"]\n",
    "# color_gradient = np.linspace(0, 1, y_mean.shape[1])\n",
    "#\n",
    "# fig, axs = plt.subplots(1, 1, subplot_kw={'projection': '3d'}, figsize=(16,9))\n",
    "# axs.set_box_aspect(aspect = (1.6, 1, 0.8))\n",
    "# axs.xaxis.set_major_locator(plt.MaxNLocator(5))\n",
    "# axs.zaxis.set_major_locator(plt.MaxNLocator(5))\n",
    "# # axs.set_xlim(0, 15600)\n",
    "# axs.set_ylim(0, 10)\n",
    "# axs.set_zlim(-2, 2)\n",
    "# axs.set_zlabel(r'Pre-activation', fontsize=30, rotation=60)\n",
    "# for i in range(y_mean.shape[1]):\n",
    "#     verts = [(x[j], i, y_max.iloc[j,i]) for j in range(x.shape[0])] + [(x[j], i, y_min.iloc[j,i]) for j in range(x.shape[0]-1, -1, -1 )]\n",
    "#     axs.add_collection3d(Poly3DCollection([verts], alpha=0.35, color=cmap_name(color_gradient[-i])))\n",
    "#     axs.plot3D(xs=x, ys=[i] * x.shape[0], zs=y_mean[i], color=cmap_name(color_gradient[i]))\n",
    "#     # axs.plot3D(xs=x, ys=[i] * x.shape[0], zs= 0, color=\"black\")\n",
    "# axs.view_init(5, -75)\n",
    "# fig.savefig(\"test.png\", bbox_inches=\"tight\")"
   ],
   "metadata": {
    "collapsed": false,
    "pycharm": {
     "name": "#%%\n"
    }
   }
  },
  {
   "cell_type": "code",
   "execution_count": null,
   "outputs": [],
   "source": [
    "a = pd.DataFrame([-1, -2])"
   ],
   "metadata": {
    "collapsed": false,
    "pycharm": {
     "name": "#%%\n"
    }
   }
  },
  {
   "cell_type": "code",
   "execution_count": null,
   "outputs": [],
   "source": [
    "a"
   ],
   "metadata": {
    "collapsed": false,
    "pycharm": {
     "name": "#%%\n"
    }
   }
  },
  {
   "cell_type": "code",
   "execution_count": null,
   "outputs": [],
   "source": [
    "a.abs()"
   ],
   "metadata": {
    "collapsed": false,
    "pycharm": {
     "name": "#%%\n"
    }
   }
  },
  {
   "cell_type": "code",
   "execution_count": null,
   "outputs": [],
   "source": [],
   "metadata": {
    "collapsed": false,
    "pycharm": {
     "name": "#%%\n"
    }
   }
  }
 ],
 "metadata": {
  "kernelspec": {
   "display_name": "Python 3",
   "language": "python",
   "name": "python3"
  },
  "language_info": {
   "codemirror_mode": {
    "name": "ipython",
    "version": 2
   },
   "file_extension": ".py",
   "mimetype": "text/x-python",
   "name": "python",
   "nbconvert_exporter": "python",
   "pygments_lexer": "ipython2",
   "version": "2.7.6"
  }
 },
 "nbformat": 4,
 "nbformat_minor": 0
}